{
 "cells": [
  {
   "cell_type": "code",
   "execution_count": null,
   "metadata": {},
   "outputs": [],
   "source": [
    "print('Olá Mundo')"
   ]
  },
  {
   "cell_type": "markdown",
   "metadata": {},
   "source": [
    "# Algumas Operações básicas com números inteiros."
   ]
  },
  {
   "cell_type": "code",
   "execution_count": null,
   "metadata": {},
   "outputs": [],
   "source": [
    "numero_inteiro = 1234  # representação de numero inteiro\n",
    "type(numero_inteiro)"
   ]
  },
  {
   "cell_type": "code",
   "execution_count": null,
   "metadata": {},
   "outputs": [],
   "source": [
    "numero_inteiro + 10 "
   ]
  },
  {
   "cell_type": "code",
   "execution_count": null,
   "metadata": {},
   "outputs": [],
   "source": [
    "numero_inteiro - 10"
   ]
  },
  {
   "cell_type": "code",
   "execution_count": null,
   "metadata": {},
   "outputs": [],
   "source": [
    "numero_inteiro * 2"
   ]
  },
  {
   "cell_type": "code",
   "execution_count": null,
   "metadata": {},
   "outputs": [],
   "source": [
    "numero_inteiro / 2"
   ]
  },
  {
   "cell_type": "markdown",
   "metadata": {},
   "source": [
    "# Pontos Flutuantes"
   ]
  },
  {
   "cell_type": "code",
   "execution_count": null,
   "metadata": {},
   "outputs": [],
   "source": [
    "1.5 + 3.7"
   ]
  },
  {
   "cell_type": "code",
   "execution_count": null,
   "metadata": {},
   "outputs": [],
   "source": [
    "12e3 + 5e3"
   ]
  },
  {
   "cell_type": "code",
   "execution_count": null,
   "metadata": {},
   "outputs": [],
   "source": [
    "2.5e-3 + 0.0025"
   ]
  },
  {
   "cell_type": "markdown",
   "metadata": {},
   "source": [
    "# Números complexos"
   ]
  },
  {
   "cell_type": "code",
   "execution_count": null,
   "metadata": {},
   "outputs": [],
   "source": [
    "numero_complexo = 2 + 5j"
   ]
  },
  {
   "cell_type": "code",
   "execution_count": null,
   "metadata": {},
   "outputs": [],
   "source": [
    "numero_complexo + 3"
   ]
  },
  {
   "cell_type": "code",
   "execution_count": null,
   "metadata": {},
   "outputs": [],
   "source": [
    "numero_complexo + 5j"
   ]
  },
  {
   "cell_type": "code",
   "execution_count": null,
   "metadata": {},
   "outputs": [],
   "source": [
    "type(numero_complexo)"
   ]
  },
  {
   "cell_type": "code",
   "execution_count": null,
   "metadata": {},
   "outputs": [],
   "source": [
    "numero_complexo.imag"
   ]
  },
  {
   "cell_type": "code",
   "execution_count": null,
   "metadata": {},
   "outputs": [],
   "source": [
    "numero_complexo.real"
   ]
  },
  {
   "cell_type": "markdown",
   "metadata": {},
   "source": [
    "# Strings"
   ]
  },
  {
   "cell_type": "code",
   "execution_count": null,
   "metadata": {},
   "outputs": [],
   "source": [
    "# String com aspas simples\n",
    "String1 = 'Fundamentos de Python no IGTI'\n",
    "print(\"Strings com aspas simples\")\n",
    "print(String1)"
   ]
  },
  {
   "cell_type": "code",
   "execution_count": null,
   "metadata": {},
   "outputs": [],
   "source": [
    "# Strings com aspas duplas\n",
    "String1 = \"Fundamentos de Python no IGTI\"\n",
    "print(\"Strings com aspas simples\")\n",
    "print(String1)"
   ]
  },
  {
   "cell_type": "code",
   "execution_count": null,
   "metadata": {},
   "outputs": [],
   "source": [
    "s1 = \"Esta é a disciplina\""
   ]
  },
  {
   "cell_type": "code",
   "execution_count": null,
   "metadata": {},
   "outputs": [],
   "source": [
    "s2 = \"Aplicações em Deep Learning\""
   ]
  },
  {
   "cell_type": "code",
   "execution_count": null,
   "metadata": {},
   "outputs": [],
   "source": [
    "print(s1,s2)"
   ]
  },
  {
   "cell_type": "code",
   "execution_count": null,
   "metadata": {},
   "outputs": [],
   "source": [
    "print(s1+'\\n'+s2)"
   ]
  },
  {
   "cell_type": "code",
   "execution_count": null,
   "metadata": {},
   "outputs": [],
   "source": [
    "''.join([s1,s2])"
   ]
  },
  {
   "cell_type": "code",
   "execution_count": null,
   "metadata": {},
   "outputs": [],
   "source": [
    "s1[::-1]"
   ]
  },
  {
   "cell_type": "markdown",
   "metadata": {},
   "source": [
    "# Listas"
   ]
  },
  {
   "cell_type": "code",
   "execution_count": null,
   "metadata": {},
   "outputs": [],
   "source": [
    "l1 = ['azul','branco','amarelo','vermelho']"
   ]
  },
  {
   "cell_type": "code",
   "execution_count": null,
   "metadata": {},
   "outputs": [],
   "source": [
    "l2 = list([1, 'coxinha',10,'pasteis',0.25e-3])"
   ]
  },
  {
   "cell_type": "code",
   "execution_count": null,
   "metadata": {},
   "outputs": [],
   "source": [
    "l3 = [1,2,3, ['a','b','c'], ['IGTI','ADL']]"
   ]
  },
  {
   "cell_type": "code",
   "execution_count": null,
   "metadata": {},
   "outputs": [],
   "source": [
    "print(l1,l2)"
   ]
  },
  {
   "cell_type": "code",
   "execution_count": null,
   "metadata": {},
   "outputs": [],
   "source": [
    "print(l1)"
   ]
  },
  {
   "cell_type": "code",
   "execution_count": null,
   "metadata": {},
   "outputs": [],
   "source": [
    "print(l3)"
   ]
  },
  {
   "cell_type": "code",
   "execution_count": null,
   "metadata": {},
   "outputs": [],
   "source": [
    "l1[0]"
   ]
  },
  {
   "cell_type": "code",
   "execution_count": null,
   "metadata": {},
   "outputs": [],
   "source": [
    "l1[1]"
   ]
  },
  {
   "cell_type": "code",
   "execution_count": null,
   "metadata": {},
   "outputs": [],
   "source": [
    "l1[1] + ' ' + l1[2]"
   ]
  },
  {
   "cell_type": "code",
   "execution_count": null,
   "metadata": {},
   "outputs": [],
   "source": [
    "l2[1:3]"
   ]
  },
  {
   "cell_type": "code",
   "execution_count": null,
   "metadata": {},
   "outputs": [],
   "source": [
    "numeros = list(range(10))\n",
    "numeros[:]"
   ]
  },
  {
   "cell_type": "code",
   "execution_count": null,
   "metadata": {},
   "outputs": [],
   "source": [
    "numeros"
   ]
  },
  {
   "cell_type": "code",
   "execution_count": null,
   "metadata": {},
   "outputs": [],
   "source": [
    "numeros[2:5]"
   ]
  },
  {
   "cell_type": "code",
   "execution_count": null,
   "metadata": {},
   "outputs": [],
   "source": [
    "numeros*2 # concatenando listas"
   ]
  },
  {
   "cell_type": "code",
   "execution_count": null,
   "metadata": {},
   "outputs": [],
   "source": [
    "numeros + l2"
   ]
  },
  {
   "cell_type": "code",
   "execution_count": null,
   "metadata": {},
   "outputs": [],
   "source": [
    "l3"
   ]
  },
  {
   "cell_type": "code",
   "execution_count": null,
   "metadata": {},
   "outputs": [],
   "source": [
    "l3[3]"
   ]
  },
  {
   "cell_type": "code",
   "execution_count": null,
   "metadata": {},
   "outputs": [],
   "source": [
    "l3[4]"
   ]
  },
  {
   "cell_type": "code",
   "execution_count": null,
   "metadata": {},
   "outputs": [],
   "source": [
    "l3[3][1]"
   ]
  },
  {
   "cell_type": "code",
   "execution_count": null,
   "metadata": {},
   "outputs": [],
   "source": [
    "#adicionando elementos à lista\n",
    "l3.append('Aplicações em Deep Learning')"
   ]
  },
  {
   "cell_type": "code",
   "execution_count": null,
   "metadata": {},
   "outputs": [],
   "source": [
    "l3"
   ]
  },
  {
   "cell_type": "code",
   "execution_count": null,
   "metadata": {},
   "outputs": [],
   "source": [
    "#retirando um elemento da lista\n",
    "l3.pop(3)"
   ]
  },
  {
   "cell_type": "code",
   "execution_count": null,
   "metadata": {},
   "outputs": [],
   "source": [
    "l3"
   ]
  },
  {
   "cell_type": "markdown",
   "metadata": {},
   "source": [
    "### List parte 2"
   ]
  },
  {
   "cell_type": "code",
   "execution_count": null,
   "metadata": {},
   "outputs": [],
   "source": [
    "lista = []\n",
    "lista.append(1)\n",
    "print(lista)"
   ]
  },
  {
   "cell_type": "code",
   "execution_count": null,
   "metadata": {},
   "outputs": [],
   "source": [
    "lista2 = []\n",
    "for i in range(0,10):\n",
    "    lista2.append(i)\n",
    "print(lista2)"
   ]
  },
  {
   "cell_type": "code",
   "execution_count": null,
   "metadata": {},
   "outputs": [],
   "source": [
    "lista3 = []\n",
    "for i in range(0,10):\n",
    "    lista3.insert(0,i)\n",
    "print(lista3)\n"
   ]
  },
  {
   "cell_type": "code",
   "execution_count": null,
   "metadata": {},
   "outputs": [],
   "source": [
    "lista4 = []\n",
    "lista4.extend([1,2,3,4,5,6,7])\n",
    "print(lista4)"
   ]
  },
  {
   "cell_type": "code",
   "execution_count": null,
   "metadata": {},
   "outputs": [],
   "source": [
    "lista4.remove(3) # Consigo remover o elemento pelo valor\n",
    "print(lista4)"
   ]
  },
  {
   "cell_type": "code",
   "execution_count": null,
   "metadata": {},
   "outputs": [],
   "source": [
    "lista4.pop()  # Remove o último elemento da lista\n",
    "print(lista4)"
   ]
  },
  {
   "cell_type": "code",
   "execution_count": null,
   "metadata": {},
   "outputs": [],
   "source": [
    "# removendo um elemento de uma posição específica com pop()\n",
    "lista4.pop(3)  # Método remove o valor através do índice\n",
    "print(lista4)"
   ]
  },
  {
   "cell_type": "markdown",
   "metadata": {},
   "source": [
    "### Tuplas parte 2"
   ]
  },
  {
   "cell_type": "code",
   "execution_count": null,
   "metadata": {},
   "outputs": [],
   "source": [
    "#tuplas são imutáveis\n",
    "#criando uma tupla através de uma lista\n",
    "lista = [1,2,3,4,5]\n",
    "print(f'Sou uma lista: {lista}')\n",
    "print(f'Sou uma tupla: {tuple(lista)}')\n",
    "print(type(tuple(lista)))"
   ]
  },
  {
   "cell_type": "code",
   "execution_count": null,
   "metadata": {},
   "outputs": [],
   "source": [
    "#criando uma tupla através de palavra tuple()\n",
    "tupla_2 = tuple('IGTI')\n",
    "print(tupla_2)"
   ]
  },
  {
   "cell_type": "code",
   "execution_count": null,
   "metadata": {},
   "outputs": [],
   "source": []
  },
  {
   "cell_type": "code",
   "execution_count": null,
   "metadata": {},
   "outputs": [],
   "source": []
  },
  {
   "cell_type": "markdown",
   "metadata": {},
   "source": [
    "# Conjuntos ou SET"
   ]
  },
  {
   "cell_type": "code",
   "execution_count": null,
   "metadata": {},
   "outputs": [],
   "source": [
    "l1 = [1,2,3,3,3,4,5,5,5,6,6,7,7,7,7,8,8] # cria uma lista com numeros repetidos"
   ]
  },
  {
   "cell_type": "code",
   "execution_count": null,
   "metadata": {},
   "outputs": [],
   "source": [
    "set(l1) #cria um conjunto através do método set()"
   ]
  },
  {
   "cell_type": "code",
   "execution_count": null,
   "metadata": {},
   "outputs": [],
   "source": [
    "s1 = set(l1)"
   ]
  },
  {
   "cell_type": "code",
   "execution_count": null,
   "metadata": {},
   "outputs": [],
   "source": [
    "1 in s1"
   ]
  },
  {
   "cell_type": "code",
   "execution_count": null,
   "metadata": {},
   "outputs": [],
   "source": [
    "10 in s1"
   ]
  },
  {
   "cell_type": "code",
   "execution_count": null,
   "metadata": {},
   "outputs": [],
   "source": [
    "s2 = {3,5,10,11,12} # cria um conjunto através do { }"
   ]
  },
  {
   "cell_type": "code",
   "execution_count": null,
   "metadata": {},
   "outputs": [],
   "source": [
    "#operações com conjuntos\n",
    "s1 - s2 # diferença entre conjuntos"
   ]
  },
  {
   "cell_type": "code",
   "execution_count": null,
   "metadata": {},
   "outputs": [],
   "source": [
    "s1 | s2  # união de conjuntos"
   ]
  },
  {
   "cell_type": "code",
   "execution_count": null,
   "metadata": {},
   "outputs": [],
   "source": [
    "s1 & s2  # interseção de conjuntos"
   ]
  },
  {
   "cell_type": "code",
   "execution_count": null,
   "metadata": {},
   "outputs": [],
   "source": [
    "s1 ^ s2  # elementos que não aparecem, ao mesmo tempo, em ambos"
   ]
  },
  {
   "cell_type": "markdown",
   "metadata": {},
   "source": [
    "### Conjuntos parte 2"
   ]
  },
  {
   "cell_type": "markdown",
   "metadata": {},
   "source": [
    "#### Desordenas, mútavies e sem elementos duplicados."
   ]
  },
  {
   "cell_type": "code",
   "execution_count": null,
   "metadata": {},
   "outputs": [],
   "source": [
    "conjunto_A = set()\n",
    "print(conjunto_A)\n",
    "type(conjunto_A)\n"
   ]
  },
  {
   "cell_type": "code",
   "execution_count": null,
   "metadata": {},
   "outputs": [],
   "source": [
    "conjunto_B = set('Python')\n",
    "print(conjunto_B) # desordenado"
   ]
  },
  {
   "cell_type": "code",
   "execution_count": null,
   "metadata": {},
   "outputs": [],
   "source": [
    "#criando um conjunto vazio\n",
    "conjunto_A = set()\n",
    "print('conjunto vazio')\n",
    "print(conjunto_A)"
   ]
  },
  {
   "cell_type": "code",
   "execution_count": null,
   "metadata": {},
   "outputs": [],
   "source": [
    "#Add elementos no conjunto\n",
    "conjunto_A.add(1)\n",
    "conjunto_A.add(3)\n",
    "conjunto_A.add((6,7))\n",
    "print(conjunto_A)"
   ]
  },
  {
   "cell_type": "code",
   "execution_count": null,
   "metadata": {},
   "outputs": [],
   "source": [
    "#add um conjunto de elementos no conjunto\n",
    "conjunto_A.update([10, 11])  # add uma lista\n",
    "print(conjunto_A)\n"
   ]
  },
  {
   "cell_type": "code",
   "execution_count": null,
   "metadata": {},
   "outputs": [],
   "source": [
    "#acessando elementos através de um loop\n",
    "conjunto_A = (['Python', 'IGTI', 'Bootcamp'])\n",
    "for i in conjunto_A:\n",
    "    print(i, end=' ')"
   ]
  },
  {
   "cell_type": "markdown",
   "metadata": {},
   "source": [
    "#### removendo elementos de um conjunto"
   ]
  },
  {
   "cell_type": "code",
   "execution_count": null,
   "metadata": {},
   "outputs": [],
   "source": [
    "conjunto_A = set([1,2,3,4,5,6,7,8,9,10,11,12])\n",
    "print(conjunto_A)\n",
    "\n",
    "conjunto_A.remove(5)\n",
    "print(conjunto_A)\n",
    "\n",
    "conjunto_A.discard(6)\n",
    "print(conjunto_A)\n",
    "\n",
    "conjunto_A.pop() # diferentemente do que acontece em listas o pop() remove o primeiro elemento do conjunto\n",
    "print(conjunto_A)\n",
    "\n",
    "conjunto_A.clear()  # Remove todos elementos do conjunto\n",
    "print(conjunto_A)"
   ]
  },
  {
   "cell_type": "markdown",
   "metadata": {},
   "source": [
    "# Dicionários"
   ]
  },
  {
   "cell_type": "code",
   "execution_count": null,
   "metadata": {},
   "outputs": [],
   "source": [
    "d1 = {'azul' : 3, 'branco' : 4, 'verde' : 6, 'preto' : 1}"
   ]
  },
  {
   "cell_type": "code",
   "execution_count": null,
   "metadata": {},
   "outputs": [],
   "source": [
    "d1"
   ]
  },
  {
   "cell_type": "code",
   "execution_count": null,
   "metadata": {},
   "outputs": [],
   "source": [
    "#recuperando itens de um dicionário\n",
    "d1.get('azul')"
   ]
  },
  {
   "cell_type": "code",
   "execution_count": null,
   "metadata": {},
   "outputs": [],
   "source": [
    "d1['azul']"
   ]
  },
  {
   "cell_type": "code",
   "execution_count": null,
   "metadata": {},
   "outputs": [],
   "source": [
    "# adicionando valores\n",
    "d1['amarelo'] =4\n",
    "d1"
   ]
  },
  {
   "cell_type": "code",
   "execution_count": null,
   "metadata": {},
   "outputs": [],
   "source": [
    "d1.keys()"
   ]
  },
  {
   "cell_type": "code",
   "execution_count": null,
   "metadata": {},
   "outputs": [],
   "source": [
    "d1.values()"
   ]
  },
  {
   "cell_type": "code",
   "execution_count": null,
   "metadata": {},
   "outputs": [],
   "source": [
    "# cria dicionário utilizando o método dict()\n",
    "d2 = dict({'laranja' : 47, 'roxo' : 21, 'azul' : 58})\n",
    "d2"
   ]
  },
  {
   "cell_type": "code",
   "execution_count": null,
   "metadata": {},
   "outputs": [],
   "source": [
    "#atualizando o dicionário d1 utilizando o d2\n",
    "d1.update(d2)\n",
    "d1"
   ]
  },
  {
   "cell_type": "markdown",
   "metadata": {},
   "source": [
    "# Tuplas"
   ]
  },
  {
   "cell_type": "code",
   "execution_count": null,
   "metadata": {},
   "outputs": [],
   "source": [
    "# criando tuplas\n",
    "t1 =(1,)\n",
    "t1"
   ]
  },
  {
   "cell_type": "code",
   "execution_count": null,
   "metadata": {},
   "outputs": [],
   "source": [
    "id(t1)"
   ]
  },
  {
   "cell_type": "code",
   "execution_count": null,
   "metadata": {},
   "outputs": [],
   "source": [
    "# midificar o conteúdo da tupla, modifica o endereço\n",
    "t1 = t1 + (2,3,4,5,6)\n",
    "t1"
   ]
  },
  {
   "cell_type": "code",
   "execution_count": null,
   "metadata": {},
   "outputs": [],
   "source": [
    "id(t1)"
   ]
  },
  {
   "cell_type": "code",
   "execution_count": null,
   "metadata": {},
   "outputs": [],
   "source": [
    "# tuplas são imutáveis\n",
    "t1[2] = 1000"
   ]
  },
  {
   "cell_type": "code",
   "execution_count": null,
   "metadata": {},
   "outputs": [],
   "source": [
    "tupla = (['IGTI','Disciplina'], ['Aplicações','Deep Learning'])\n",
    "tupla[0]"
   ]
  },
  {
   "cell_type": "code",
   "execution_count": null,
   "metadata": {},
   "outputs": [],
   "source": [
    "l1,l2 = tupla\n",
    "print(l1,l2)"
   ]
  },
  {
   "cell_type": "code",
   "execution_count": null,
   "metadata": {},
   "outputs": [],
   "source": [
    "print(l1)"
   ]
  },
  {
   "cell_type": "markdown",
   "metadata": {},
   "source": [
    "# Controle de Fluxo"
   ]
  },
  {
   "cell_type": "markdown",
   "metadata": {},
   "source": [
    "### IF, ELIF and ELSE"
   ]
  },
  {
   "cell_type": "code",
   "execution_count": null,
   "metadata": {},
   "outputs": [],
   "source": [
    "variavel = 'azul'\n",
    "if variavel == 'azul':\n",
    "    print(\"Variável é azul\")"
   ]
  },
  {
   "cell_type": "code",
   "execution_count": null,
   "metadata": {},
   "outputs": [],
   "source": [
    "variavel = 'branco'\n",
    "if variavel == 'azul':\n",
    "    print('Variável é azul')\n",
    "elif variavel == 'branco':\n",
    "    print('Variável é branco')"
   ]
  },
  {
   "cell_type": "code",
   "execution_count": null,
   "metadata": {},
   "outputs": [],
   "source": [
    "variavel = 'verde'\n",
    "if variavel == 'azul':\n",
    "    print('Variável é azul')\n",
    "elif variavel == 'branco':\n",
    "    print('Variável é branco')\n",
    "else:\n",
    "    print('Variável é verde')"
   ]
  },
  {
   "cell_type": "markdown",
   "metadata": {},
   "source": [
    "# Calculadora"
   ]
  },
  {
   "cell_type": "code",
   "execution_count": null,
   "metadata": {},
   "outputs": [],
   "source": [
    "\n",
    "num = float(input(\"Digite o primeiro número\"))\n",
    "num_2 = float(input(\"Digite o segundo número\"))\n",
    "\n",
    "print(\"\"\"\n",
    "        (+) - Soma os dois números\n",
    "        (-) - Subtrai os dois números\n",
    "        (*) - Multiplica os dois números\n",
    "        (/) - Divide os dois números\n",
    "\"\"\")\n",
    "\n",
    "opcao = input(\"Digite a operação que você deseja fazer: \")\n",
    "\n",
    "if opcao == \"+\":\n",
    "    print(f\"A soma entre {num} + {num_2} = {num + num_2}\")\n",
    "elif opcao == \"-\":\n",
    "    print(f\"A subtração entre: {num} - {num_2} = {num - num_2}\")\n",
    "elif opcao == \"*\":\n",
    "     print(f\"A multiplicação entre: {num} x {num_2} = {num * num_2}\")\n",
    "elif opcao == \"/\":\n",
    "     print(f\"A divisão entre: {num} / {num_2} = {num / num_2}\")\n",
    "else:\n",
    "    print(\"Opção inválida.\")\n",
    "\n",
    "print(\"Fim do programa\")"
   ]
  },
  {
   "cell_type": "markdown",
   "metadata": {},
   "source": [
    "### Loop FOR"
   ]
  },
  {
   "cell_type": "code",
   "execution_count": null,
   "metadata": {},
   "outputs": [],
   "source": [
    "# ilustrando loops\n",
    "sequencia = range(0,5)\n",
    "for num in sequencia:\n",
    "    print(num)"
   ]
  },
  {
   "cell_type": "code",
   "execution_count": null,
   "metadata": {},
   "outputs": [],
   "source": [
    "sum = 0\n",
    "for num in sequencia:\n",
    "    sum += num\n",
    "print(sum)"
   ]
  },
  {
   "cell_type": "code",
   "execution_count": null,
   "metadata": {},
   "outputs": [],
   "source": [
    "sequencia = range(0,5)\n",
    "for num in sequencia:\n",
    "    print(num)\n",
    "else:\n",
    "    print('loop terminou normalmente')"
   ]
  },
  {
   "cell_type": "code",
   "execution_count": null,
   "metadata": {},
   "outputs": [],
   "source": [
    "sequencia = range(0,5)\n",
    "for num in sequencia:\n",
    "    if num < 3:\n",
    "        print(num)\n",
    "    else:\n",
    "        break\n",
    "else:\n",
    "    print('loop terminou normalmente')"
   ]
  },
  {
   "cell_type": "markdown",
   "metadata": {},
   "source": [
    "### Loop While"
   ]
  },
  {
   "cell_type": "code",
   "execution_count": null,
   "metadata": {},
   "outputs": [],
   "source": [
    "num = 5\n",
    "while num > 0:\n",
    "    print(num)\n",
    "    num -= 1"
   ]
  },
  {
   "cell_type": "code",
   "execution_count": null,
   "metadata": {},
   "outputs": [],
   "source": [
    "# exemplo de uma função que retorna o quadrado de um número\n",
    "def retornaQuadrado(numero):\n",
    "    return numero*numero\n",
    "\n",
    "numero = 5\n",
    "print('O quadrado de {} é: {}'.format(numero,retornaQuadrado(numero)))"
   ]
  },
  {
   "cell_type": "markdown",
   "metadata": {},
   "source": [
    "## While parte - 2"
   ]
  },
  {
   "cell_type": "code",
   "execution_count": null,
   "metadata": {},
   "outputs": [],
   "source": [
    "i = 0\n",
    "while i < 5:\n",
    "    i += 1\n",
    "    if i == 3:\n",
    "        print(f'Obaaa! achei o numero {i}')\n",
    "        continue   \n",
    "    print(i)\n",
    "        "
   ]
  },
  {
   "cell_type": "code",
   "execution_count": null,
   "metadata": {},
   "outputs": [],
   "source": [
    "j = 0\n",
    "while j < 10000000:\n",
    "    j += 1\n",
    "    if j == 5:\n",
    "        print('achei o número 5 vou sair do loop.')\n",
    "        break\n",
    "    print(j)"
   ]
  },
  {
   "cell_type": "code",
   "execution_count": null,
   "metadata": {},
   "outputs": [],
   "source": []
  },
  {
   "cell_type": "markdown",
   "metadata": {},
   "source": [
    "# Trabalhando com exceções"
   ]
  },
  {
   "cell_type": "code",
   "execution_count": null,
   "metadata": {},
   "outputs": [],
   "source": [
    "#gerando uma exceção\n",
    "x = 10\n",
    "if x > 5:\n",
    "    raise Exception(f'x não deve ser maior do que 5. O valor x digitado foi {x}')\n",
    "print('....')"
   ]
  },
  {
   "cell_type": "code",
   "execution_count": null,
   "metadata": {},
   "outputs": [],
   "source": [
    "#exemplo de advinhação com exceções\n",
    "\n",
    "try:\n",
    "    numerador = int(input(\"Entre com o numerador: \"))\n",
    "except ValueError:  #captura apenas exceções do tipo ValueErrors\n",
    "    print('Você não entrou com um número inteiro.')\n",
    "    exit(0)\n",
    "    \n",
    "try:\n",
    "    denominador = int(input(\"Entre com o denominador: \"))\n",
    "except:  #lida com qualquer tipo de erro\n",
    "    print(\"você não entrou com um número inteiro.\")\n",
    "    exit(0)\n",
    "    \n",
    "try:\n",
    "    if numerador % denominador == 0:\n",
    "        print(\"O denominador é divisível pelo numerador\")\n",
    "    else:\n",
    "        print(\"A divisão não é inteira.\")\n",
    "except ZeroDivisionError:  #captura divisões por zero\n",
    "    print(\"Denominador não pode ser zero.\")"
   ]
  },
  {
   "cell_type": "code",
   "execution_count": null,
   "metadata": {},
   "outputs": [],
   "source": [
    "idades = {'Tulio': 30, 'Maria': 28, 'Antonio':33}\n",
    "pessoa = input('Quero saber a idade de: ')\n",
    "idade = idades.get(pessoa)\n",
    "try:\n",
    "    print(f'{pessoa} tem {idades[pessoa]} anos de idade.')\n",
    "except KeyError:\n",
    "    print(f'{pessoa} com idade desconhecida.')"
   ]
  },
  {
   "cell_type": "markdown",
   "metadata": {},
   "source": [
    "# Escrevendo Arquivos"
   ]
  },
  {
   "cell_type": "code",
   "execution_count": null,
   "metadata": {},
   "outputs": [],
   "source": [
    "nome_do_arquivo = input('Escreva o nome do arquivo a ser criado: ')\n",
    "seu_nome = input('Digite o seu nome: ')\n",
    "sua_idade = input('Digite a sua idade: ')\n",
    "sua_cidade = input('Digite a sua cidade: ')\n",
    "arquivo_saida = open(nome_do_arquivo, 'w')\n",
    "arquivo_saida.write('Olá, ' + seu_nome + '. \\n')\n",
    "arquivo_saida.write(seu_nome + 'possui' + str(sua_idade) + 'anos. \\n')\n",
    "arquivo_saida.write(\"Você mora em \" + sua_cidade)\n",
    "arquivo_saida.close()"
   ]
  },
  {
   "cell_type": "markdown",
   "metadata": {},
   "source": [
    "# Lendo arquivos"
   ]
  },
  {
   "cell_type": "code",
   "execution_count": null,
   "metadata": {},
   "outputs": [],
   "source": [
    "arquivo = open(\"testando.txt\", 'r')\n",
    "for linhas in arquivo:\n",
    "    print(linhas)\n",
    "arquivo.close"
   ]
  },
  {
   "cell_type": "markdown",
   "metadata": {},
   "source": [
    "### Contando a quantidade de linhas em um arquivo com o while."
   ]
  },
  {
   "cell_type": "code",
   "execution_count": null,
   "metadata": {},
   "outputs": [],
   "source": [
    "nome_do_arquivo = 'carlos_drummond.txt'\n",
    "poema = open(nome_do_arquivo)\n",
    "numero_de_linhas = 0\n",
    "#lê a primeira linha do arquivo\n",
    "linha = poema.readline().rstrip()\n",
    "while linha != \"FIM\":\n",
    "    numero_de_linhas = numero_de_linhas + 1\n",
    "    linha = poema.readline().rstrip()\n",
    "print(nome_do_arquivo + 'possui ' + str(numero_de_linhas)+' linhas.')"
   ]
  },
  {
   "cell_type": "code",
   "execution_count": null,
   "metadata": {},
   "outputs": [],
   "source": [
    "#lendo as linhas do arquivo com while\n",
    "nome_do_arquivo = 'carlos_drummond.txt'\n",
    "poema = open(nome_do_arquivo)\n",
    "lista_linhas = []\n",
    "#lê a primeira linha do arquivo\n",
    "linha = poema.readline().rstrip()\n",
    "while linha != \"FIM\":\n",
    "    lista_linhas.append(linha)\n",
    "    linha = poema.readline().rstrip()\n",
    "for i in lista_linhas:\n",
    "    print(i)"
   ]
  },
  {
   "cell_type": "markdown",
   "metadata": {},
   "source": [
    "# Funções"
   ]
  },
  {
   "cell_type": "code",
   "execution_count": null,
   "metadata": {},
   "outputs": [],
   "source": [
    "#função que inverte o valor da String\n",
    "def invert_string(valor_string):\n",
    "    resultado = \" \"\n",
    "    for caracter in valor_string:\n",
    "        resultado = caracter + resultado\n",
    "    return resultado\n",
    "\n",
    "#utilizando a função definida\n",
    "\n",
    "string = input(\"Entre com alguma string: \")\n",
    "while string.strip() !=\"\":\n",
    "    print(\"O inverso de \",string, \"é \", invert_string(string))\n",
    "    string = input(\"Entre com outra string ou pressione ENTER para sair: \")"
   ]
  },
  {
   "cell_type": "markdown",
   "metadata": {},
   "source": [
    "# Recursividade"
   ]
  },
  {
   "cell_type": "code",
   "execution_count": null,
   "metadata": {},
   "outputs": [],
   "source": [
    "#função fatorial\n",
    "\n",
    "def fatorial(n):\n",
    "    if n == 0:\n",
    "        return 1\n",
    "    \n",
    "    return n * fatorial(n -1)\n",
    "\n",
    "print(fatorial(10))"
   ]
  },
  {
   "cell_type": "markdown",
   "metadata": {},
   "source": [
    "# Orientação a Objetos"
   ]
  },
  {
   "cell_type": "markdown",
   "metadata": {},
   "source": [
    "## Módulos"
   ]
  },
  {
   "cell_type": "code",
   "execution_count": null,
   "metadata": {},
   "outputs": [],
   "source": [
    "import sys\n",
    "print(sys.path)"
   ]
  },
  {
   "cell_type": "code",
   "execution_count": null,
   "metadata": {},
   "outputs": [],
   "source": [
    "#utilizando módulos em python\n",
    "import math  #módulos que contém funções matemáticas\n",
    "\n",
    "print(\"O valor de PI é: \", math.pi)\n",
    "print(\"O seno de 45° é: \", math.sin(math.pi/4))  #seno de PI/4\n",
    "print(\"O cosseno de 180° é: \", math.cos(math.pi))  #cossena de pi"
   ]
  },
  {
   "cell_type": "markdown",
   "metadata": {},
   "source": [
    "### importando vários módulos."
   ]
  },
  {
   "cell_type": "code",
   "execution_count": null,
   "metadata": {},
   "outputs": [],
   "source": [
    "import math, datetime\n",
    "\n",
    "print(datetime.datetime.now())"
   ]
  },
  {
   "cell_type": "code",
   "execution_count": null,
   "metadata": {},
   "outputs": [],
   "source": [
    "import platform  #módulo utilizando para monitorar a plataforma (s.o) que estamos utilizando\n",
    "\n",
    "x = platform\n",
    "plataforma = x.system()\n",
    "print(plataforma)\n",
    "print(x.python_version())\n",
    "print(x.processor())"
   ]
  },
  {
   "cell_type": "code",
   "execution_count": 4,
   "metadata": {},
   "outputs": [
    {
     "data": {
      "text/plain": [
       "['In',\n",
       " 'Out',\n",
       " '_',\n",
       " '_1',\n",
       " '_3',\n",
       " '__',\n",
       " '___',\n",
       " '__builtin__',\n",
       " '__builtins__',\n",
       " '__doc__',\n",
       " '__loader__',\n",
       " '__name__',\n",
       " '__package__',\n",
       " '__spec__',\n",
       " '_dh',\n",
       " '_i',\n",
       " '_i1',\n",
       " '_i2',\n",
       " '_i3',\n",
       " '_i4',\n",
       " '_ih',\n",
       " '_ii',\n",
       " '_iii',\n",
       " '_oh',\n",
       " 'exit',\n",
       " 'get_ipython',\n",
       " 'math',\n",
       " 'quit']"
      ]
     },
     "execution_count": 4,
     "metadata": {},
     "output_type": "execute_result"
    }
   ],
   "source": [
    "#mostrando a tabela de nome existentes\n",
    "dir()"
   ]
  },
  {
   "cell_type": "code",
   "execution_count": 2,
   "metadata": {},
   "outputs": [],
   "source": [
    "import math"
   ]
  },
  {
   "cell_type": "code",
   "execution_count": 5,
   "metadata": {},
   "outputs": [
    {
     "name": "stdout",
     "output_type": "stream",
     "text": [
      "['__doc__', '__loader__', '__name__', '__package__', '__spec__', 'acos', 'acosh', 'asin', 'asinh', 'atan', 'atan2', 'atanh', 'ceil', 'comb', 'copysign', 'cos', 'cosh', 'degrees', 'dist', 'e', 'erf', 'erfc', 'exp', 'expm1', 'fabs', 'factorial', 'floor', 'fmod', 'frexp', 'fsum', 'gamma', 'gcd', 'hypot', 'inf', 'isclose', 'isfinite', 'isinf', 'isnan', 'isqrt', 'ldexp', 'lgamma', 'log', 'log10', 'log1p', 'log2', 'modf', 'nan', 'perm', 'pi', 'pow', 'prod', 'radians', 'remainder', 'sin', 'sinh', 'sqrt', 'tan', 'tanh', 'tau', 'trunc']\n"
     ]
    }
   ],
   "source": [
    "#verificando os nomes definidos pelo módulo\n",
    "import math\n",
    "\n",
    "conteudo = dir(math)\n",
    "print(conteudo)"
   ]
  },
  {
   "cell_type": "code",
   "execution_count": null,
   "metadata": {},
   "outputs": [],
   "source": [
    "## instalando novos módulos no Google Colab"
   ]
  },
  {
   "cell_type": "code",
   "execution_count": 6,
   "metadata": {},
   "outputs": [
    {
     "name": "stdout",
     "output_type": "stream",
     "text": [
      "Collecting ColabTurtle\n",
      "  Downloading ColabTurtle-2.0.0.tar.gz (3.3 kB)\n",
      "Building wheels for collected packages: ColabTurtle\n",
      "  Building wheel for ColabTurtle (setup.py): started\n",
      "  Building wheel for ColabTurtle (setup.py): finished with status 'done'\n",
      "  Created wheel for ColabTurtle: filename=ColabTurtle-2.0.0-py3-none-any.whl size=4037 sha256=506ca1d7ea09358aaa68d4f878f5ee4a8dd8813faf0c0922b77feb1b366e7e5d\n",
      "  Stored in directory: c:\\users\\nobuy\\appdata\\local\\pip\\cache\\wheels\\fc\\14\\3b\\34839679f8fae67cacd8e3229df1fec32477eb7245d6e10fb9\n",
      "Successfully built ColabTurtle\n",
      "Installing collected packages: ColabTurtle\n",
      "Successfully installed ColabTurtle-2.0.0\n"
     ]
    }
   ],
   "source": [
    "!pip3 install ColabTurtle\n"
   ]
  },
  {
   "cell_type": "markdown",
   "metadata": {},
   "source": [
    "# Contrutores"
   ]
  },
  {
   "cell_type": "code",
   "execution_count": null,
   "metadata": {},
   "outputs": [],
   "source": []
  }
 ],
 "metadata": {
  "kernelspec": {
   "display_name": "Python 3",
   "language": "python",
   "name": "python3"
  },
  "language_info": {
   "codemirror_mode": {
    "name": "ipython",
    "version": 3
   },
   "file_extension": ".py",
   "mimetype": "text/x-python",
   "name": "python",
   "nbconvert_exporter": "python",
   "pygments_lexer": "ipython3",
   "version": "3.8.3"
  }
 },
 "nbformat": 4,
 "nbformat_minor": 4
}
